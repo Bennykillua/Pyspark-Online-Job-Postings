{
 "cells": [
  {
   "cell_type": "markdown",
   "id": "1470fae7",
   "metadata": {},
   "source": [
    "# Problem Statement\n",
    "\n",
    "Who benefits or loses from globalisation is no longer based on the sector in which one works or the skill group one belongs to. Ongoing technological innovations have enabled greater global competition for a number of jobs. The key challenge for individuals and policy-makers is how to respond to this. In the global labour market, employers compete to hire the best, and the workers compete for the best satisfying job. The labour market is the place where the supply and the demand for jobs meet, with the workers or labour providing the services that employers demand. Career development is directly linked to the goals and objectives set by an individual. It starts with self-actualization and self-assessment of one’s interests and capabilities. The interests are then matched with the available options. Hence, there is the need to understand the demand for certain professions and job titles. There is also a need to identify skills that are most frequently required by employers, how the distribution of necessary skills changes over time and what industry tools are required before obtaining a specialisation in education. The main objective of this project was to understand the dynamics of the labour market using the Armenian online job portal post as a proxy and to provide data driven insights and recommendations to graduates before getting into the industry."
   ]
  }
 ],
 "metadata": {
  "kernelspec": {
   "display_name": "Python 3 (ipykernel)",
   "language": "python",
   "name": "python3"
  },
  "language_info": {
   "codemirror_mode": {
    "name": "ipython",
    "version": 3
   },
   "file_extension": ".py",
   "mimetype": "text/x-python",
   "name": "python",
   "nbconvert_exporter": "python",
   "pygments_lexer": "ipython3",
   "version": "3.8.8"
  },
  "toc": {
   "base_numbering": 1,
   "nav_menu": {},
   "number_sections": true,
   "sideBar": true,
   "skip_h1_title": false,
   "title_cell": "Table of Contents",
   "title_sidebar": "Contents",
   "toc_cell": false,
   "toc_position": {},
   "toc_section_display": true,
   "toc_window_display": false
  }
 },
 "nbformat": 4,
 "nbformat_minor": 5
}
